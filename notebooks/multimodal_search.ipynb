{
 "cells": [
  {
   "cell_type": "code",
   "execution_count": 4,
   "metadata": {},
   "outputs": [
    {
     "name": "stdout",
     "output_type": "stream",
     "text": [
      "\n",
      "\u001b[1m[\u001b[0m\u001b[34;49mnotice\u001b[0m\u001b[1;39;49m]\u001b[0m\u001b[39;49m A new release of pip available: \u001b[0m\u001b[31;49m22.3.1\u001b[0m\u001b[39;49m -> \u001b[0m\u001b[32;49m23.1.2\u001b[0m\n",
      "\u001b[1m[\u001b[0m\u001b[34;49mnotice\u001b[0m\u001b[1;39;49m]\u001b[0m\u001b[39;49m To update, run: \u001b[0m\u001b[32;49mpip install --upgrade pip\u001b[0m\n",
      "\n",
      "\u001b[1m[\u001b[0m\u001b[34;49mnotice\u001b[0m\u001b[1;39;49m]\u001b[0m\u001b[39;49m A new release of pip available: \u001b[0m\u001b[31;49m22.3.1\u001b[0m\u001b[39;49m -> \u001b[0m\u001b[32;49m23.1.2\u001b[0m\n",
      "\u001b[1m[\u001b[0m\u001b[34;49mnotice\u001b[0m\u001b[1;39;49m]\u001b[0m\u001b[39;49m To update, run: \u001b[0m\u001b[32;49mpip install --upgrade pip\u001b[0m\n"
     ]
    }
   ],
   "source": [
    "!pip install --quiet -U lancedb\n",
    "!pip install --quiet gradio"
   ]
  },
  {
   "cell_type": "code",
   "execution_count": 6,
   "metadata": {},
   "outputs": [],
   "source": [
    "import duckdb\n",
    "import lancedb\n",
    "\n",
    "uri = \"~/datasets/demo\"\n",
    "db = lancedb.connect(uri)\n",
    "tbl = db.open_table(\"diffusion\")\n",
    "\n",
    "# Initialize CLIP model\n",
    "def embed_func(vector_query):\n",
    "    pass\n",
    "\n",
    "def find_image_vectors(query):\n",
    "    emb = embed_func(vector_query)\n",
    "    return _extract(tbl.search(emb).limit(9).to_df())\n",
    "\n",
    "def find_image_keywords(query):\n",
    "    return _extact(tbl.search(keyword_query).limit(9).to_df())\n",
    "\n",
    "def find_image_sql(query):\n",
    "    imagenet_1k = tbl.to_lance()\n",
    "    return _extract(duckdb.query(sql_query).to_df())\n",
    "\n",
    "def _extract(df):\n",
    "    image_col = \"image column name\"\n",
    "    label_col = \"label column name\"\n",
    "    return [(row[image_col], row[label_col]) for row in df.iterrows()]    "
   ]
  },
  {
   "cell_type": "code",
   "execution_count": 11,
   "metadata": {},
   "outputs": [
    {
     "name": "stdout",
     "output_type": "stream",
     "text": [
      "Running on local URL:  http://127.0.0.1:7862\n",
      "\n",
      "To create a public link, set `share=True` in `launch()`.\n"
     ]
    },
    {
     "data": {
      "text/html": [
       "<div><iframe src=\"http://127.0.0.1:7862/\" width=\"100%\" height=\"500\" allow=\"autoplay; camera; microphone; clipboard-read; clipboard-write;\" frameborder=\"0\" allowfullscreen></iframe></div>"
      ],
      "text/plain": [
       "<IPython.core.display.HTML object>"
      ]
     },
     "metadata": {},
     "output_type": "display_data"
    },
    {
     "data": {
      "text/plain": []
     },
     "execution_count": 11,
     "metadata": {},
     "output_type": "execute_result"
    }
   ],
   "source": [
    "import gradio as gr\n",
    "\n",
    "\n",
    "with gr.Blocks() as demo:\n",
    "    gallery = gr.Gallery(\n",
    "            label=\"Found images\", show_label=False, elem_id=\"gallery\"\n",
    "        ).style(columns=[3], rows=[3], object_fit=\"contain\", height=\"auto\")\n",
    "    with gr.Row():\n",
    "        with gr.Tab(\"Embeddings\"):\n",
    "            vector_query = gr.Textbox(value=\"people riding bikes\")\n",
    "            gr.Button(\"Submit\").click(find_image_vectors, inputs=vector_query, outputs=gallery)\n",
    "        with gr.Tab(\"Keywords\"):\n",
    "            keyword_query = gr.Textbox(value=\"turtle\")\n",
    "            gr.Button(\"Submit\").click(find_image_keywords, inputs=keyword_query, outputs=gallery)\n",
    "        with gr.Tab(\"SQL\"):\n",
    "            sql_query = gr.Textbox(value=\"SELECT * from imagenet_1k WHERE label='crayfish' LIMIT 9\")\n",
    "            gr.Button(\"Submit\").click(find_image_sql, inputs=sql_query, outputs=gallery)\n",
    "    with gr.Row():\n",
    "        gallery\n",
    "        \n",
    "demo.launch()"
   ]
  },
  {
   "cell_type": "code",
   "execution_count": null,
   "metadata": {},
   "outputs": [],
   "source": []
  }
 ],
 "metadata": {
  "kernelspec": {
   "display_name": "Python 3 (ipykernel)",
   "language": "python",
   "name": "python3"
  },
  "language_info": {
   "codemirror_mode": {
    "name": "ipython",
    "version": 3
   },
   "file_extension": ".py",
   "mimetype": "text/x-python",
   "name": "python",
   "nbconvert_exporter": "python",
   "pygments_lexer": "ipython3",
   "version": "3.11.3"
  }
 },
 "nbformat": 4,
 "nbformat_minor": 1
}
