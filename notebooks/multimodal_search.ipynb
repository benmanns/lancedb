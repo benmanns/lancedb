{
 "cells": [
  {
   "cell_type": "code",
   "execution_count": 4,
   "metadata": {},
   "outputs": [
    {
     "name": "stdout",
     "output_type": "stream",
     "text": [
      "\n",
      "\u001b[1m[\u001b[0m\u001b[34;49mnotice\u001b[0m\u001b[1;39;49m]\u001b[0m\u001b[39;49m A new release of pip available: \u001b[0m\u001b[31;49m22.3.1\u001b[0m\u001b[39;49m -> \u001b[0m\u001b[32;49m23.1.2\u001b[0m\n",
      "\u001b[1m[\u001b[0m\u001b[34;49mnotice\u001b[0m\u001b[1;39;49m]\u001b[0m\u001b[39;49m To update, run: \u001b[0m\u001b[32;49mpip install --upgrade pip\u001b[0m\n",
      "\n",
      "\u001b[1m[\u001b[0m\u001b[34;49mnotice\u001b[0m\u001b[1;39;49m]\u001b[0m\u001b[39;49m A new release of pip available: \u001b[0m\u001b[31;49m22.3.1\u001b[0m\u001b[39;49m -> \u001b[0m\u001b[32;49m23.1.2\u001b[0m\n",
      "\u001b[1m[\u001b[0m\u001b[34;49mnotice\u001b[0m\u001b[1;39;49m]\u001b[0m\u001b[39;49m To update, run: \u001b[0m\u001b[32;49mpip install --upgrade pip\u001b[0m\n"
     ]
    }
   ],
   "source": [
    "!pip install --quiet -U lancedb\n",
    "!pip install --quiet gradio"
   ]
  },
  {
   "cell_type": "code",
   "execution_count": 49,
   "metadata": {},
   "outputs": [
    {
     "name": "stdout",
     "output_type": "stream",
     "text": [
      "  % Total    % Received % Xferd  Average Speed   Time    Time     Time  Current\n",
      "                                 Dload  Upload   Total   Spent    Left  Speed\n",
      "100 12539  100 12539    0     0  44000      0 --:--:-- --:--:-- --:--:-- 44622\n"
     ]
    }
   ],
   "source": [
    "!curl -o /tmp/img.png https://user-images.githubusercontent.com/917119/226205734-6063d87a-1ecc-45fe-85be-1dea6383a3d8.png "
   ]
  },
  {
   "cell_type": "code",
   "execution_count": 52,
   "metadata": {},
   "outputs": [],
   "source": [
    "from PIL import Image\n",
    "import io\n",
    "image = Image.open(\"/tmp/img.png\")\n",
    "img_byte_arr = io.BytesIO()\n",
    "image.save(img_byte_arr, format='PNG')\n",
    "img_byte_arr = img_byte_arr.getvalue()"
   ]
  },
  {
   "cell_type": "code",
   "execution_count": 68,
   "metadata": {},
   "outputs": [
    {
     "data": {
      "text/plain": [
       "LanceTable(diffusion)"
      ]
     },
     "execution_count": 68,
     "metadata": {},
     "output_type": "execute_result"
    }
   ],
   "source": [
    "import pyarrow as pa\n",
    "\n",
    "uri = \"~/datasets\"\n",
    "db = lancedb.connect(uri)\n",
    "tbl = db.open_table(\"chatbot\")\n",
    "data = tbl.to_lance().to_table()\n",
    "data = data.append_column(\"image\", pa.array([img_byte_arr]*len(data)))\n",
    "\n",
    "db = lancedb.connect(\"~/datasets/demo\")\n",
    "db.create_table(\"diffusion\", data)"
   ]
  },
  {
   "cell_type": "code",
   "execution_count": 69,
   "metadata": {},
   "outputs": [],
   "source": [
    "tbl = db.open_table(\"diffusion\")\n",
    "tbl = tbl.create_fts_index([\"text\", \"title\"])"
   ]
  },
  {
   "cell_type": "code",
   "execution_count": 94,
   "metadata": {},
   "outputs": [],
   "source": [
    "import duckdb\n",
    "import lancedb\n",
    "\n",
    "uri = \"~/datasets/demo\"\n",
    "db = lancedb.connect(uri)\n",
    "tbl = db.open_table(\"diffusion\")\n",
    "\n",
    "# Initialize CLIP model\n",
    "def embed_func(vector_query):\n",
    "    pass\n",
    "\n",
    "def find_image_vectors(query):\n",
    "    emb = embed_func(query)\n",
    "    return _extract(tbl.search(emb).limit(9).to_df())\n",
    "\n",
    "def find_image_keywords(query):\n",
    "    return _extract(tbl.search(query).limit(9).to_df())\n",
    "\n",
    "def find_image_sql(query):\n",
    "    diffusiondb = tbl.to_lance()\n",
    "    return _extract(duckdb.query(query).to_df())\n",
    "\n",
    "def _extract(df):\n",
    "    image_col = \"image\"\n",
    "    label_col = \"text\"\n",
    "    return [(PIL.Image.open(io.BytesIO(row[image_col])), row[label_col]) for _, row in df.iterrows()]    "
   ]
  },
  {
   "cell_type": "code",
   "execution_count": 95,
   "metadata": {},
   "outputs": [
    {
     "name": "stdout",
     "output_type": "stream",
     "text": [
      "Running on local URL:  http://127.0.0.1:7885\n",
      "\n",
      "To create a public link, set `share=True` in `launch()`.\n"
     ]
    },
    {
     "data": {
      "text/html": [
       "<div><iframe src=\"http://127.0.0.1:7885/\" width=\"100%\" height=\"500\" allow=\"autoplay; camera; microphone; clipboard-read; clipboard-write;\" frameborder=\"0\" allowfullscreen></iframe></div>"
      ],
      "text/plain": [
       "<IPython.core.display.HTML object>"
      ]
     },
     "metadata": {},
     "output_type": "display_data"
    },
    {
     "data": {
      "text/plain": []
     },
     "execution_count": 95,
     "metadata": {},
     "output_type": "execute_result"
    }
   ],
   "source": [
    "import gradio as gr\n",
    "\n",
    "\n",
    "with gr.Blocks() as demo:\n",
    "    with gr.Row():\n",
    "        gallery = gr.Gallery(\n",
    "                label=\"Found images\", show_label=False, elem_id=\"gallery\"\n",
    "            ).style(columns=[3], rows=[3], object_fit=\"contain\", height=\"auto\")\n",
    "    with gr.Row():\n",
    "        with gr.Tab(\"Embeddings\"):\n",
    "            vector_query = gr.Textbox(value=\"people riding bikes\", show_label=False)\n",
    "            gr.Button(\"Submit\").click(find_image_vectors, inputs=vector_query, outputs=gallery)\n",
    "        with gr.Tab(\"Keywords\"):\n",
    "            keyword_query = gr.Textbox(value=\"turtle\", show_label=False)\n",
    "            gr.Button(\"Submit\").click(find_image_keywords, inputs=keyword_query, outputs=gallery)\n",
    "        with gr.Tab(\"SQL\"):\n",
    "            sql_query = gr.Textbox(value=\"SELECT * from diffusiondb WHERE title like '%encoder%' LIMIT 9\", show_label=False)\n",
    "            gr.Button(\"Submit\").click(find_image_sql, inputs=sql_query, outputs=gallery)\n",
    "        \n",
    "demo.launch()"
   ]
  },
  {
   "cell_type": "code",
   "execution_count": null,
   "metadata": {},
   "outputs": [],
   "source": []
  },
  {
   "cell_type": "code",
   "execution_count": null,
   "metadata": {},
   "outputs": [],
   "source": []
  }
 ],
 "metadata": {
  "kernelspec": {
   "display_name": "Python 3 (ipykernel)",
   "language": "python",
   "name": "python3"
  },
  "language_info": {
   "codemirror_mode": {
    "name": "ipython",
    "version": 3
   },
   "file_extension": ".py",
   "mimetype": "text/x-python",
   "name": "python",
   "nbconvert_exporter": "python",
   "pygments_lexer": "ipython3",
   "version": "3.11.3"
  }
 },
 "nbformat": 4,
 "nbformat_minor": 1
}
