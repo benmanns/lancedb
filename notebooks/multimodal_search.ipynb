{
 "cells": [
  {
   "cell_type": "code",
   "execution_count": 2,
   "metadata": {},
   "outputs": [
    {
     "name": "stdout",
     "output_type": "stream",
     "text": [
      "\n",
      "\u001b[1m[\u001b[0m\u001b[34;49mnotice\u001b[0m\u001b[1;39;49m]\u001b[0m\u001b[39;49m A new release of pip available: \u001b[0m\u001b[31;49m22.3.1\u001b[0m\u001b[39;49m -> \u001b[0m\u001b[32;49m23.1.2\u001b[0m\n",
      "\u001b[1m[\u001b[0m\u001b[34;49mnotice\u001b[0m\u001b[1;39;49m]\u001b[0m\u001b[39;49m To update, run: \u001b[0m\u001b[32;49mpip install --upgrade pip\u001b[0m\n",
      "\n",
      "\u001b[1m[\u001b[0m\u001b[34;49mnotice\u001b[0m\u001b[1;39;49m]\u001b[0m\u001b[39;49m A new release of pip available: \u001b[0m\u001b[31;49m22.3.1\u001b[0m\u001b[39;49m -> \u001b[0m\u001b[32;49m23.1.2\u001b[0m\n",
      "\u001b[1m[\u001b[0m\u001b[34;49mnotice\u001b[0m\u001b[1;39;49m]\u001b[0m\u001b[39;49m To update, run: \u001b[0m\u001b[32;49mpip install --upgrade pip\u001b[0m\n"
     ]
    }
   ],
   "source": [
    "!pip install --quiet -U lancedb\n",
    "!pip install --quiet gradio transformers torch torchvision"
   ]
  },
  {
   "cell_type": "code",
   "execution_count": 14,
   "metadata": {},
   "outputs": [],
   "source": [
    "data = tbl.to_lance().to_table()"
   ]
  },
  {
   "cell_type": "code",
   "execution_count": 30,
   "metadata": {},
   "outputs": [
    {
     "data": {
      "text/plain": [
       "<lance.dataset.LanceDataset at 0x3045db590>"
      ]
     },
     "execution_count": 30,
     "metadata": {},
     "output_type": "execute_result"
    }
   ],
   "source": [
    "import lance\n",
    "import pyarrow.compute as pc\n",
    "\n",
    "lance.write_dataset(data.filter(~pc.field(\"prompt\").is_null()), \"~/datasets/demo/diffusiondb.lance\")"
   ]
  },
  {
   "cell_type": "code",
   "execution_count": 42,
   "metadata": {},
   "outputs": [],
   "source": [
    "import io\n",
    "import PIL\n",
    "import duckdb\n",
    "import lancedb\n",
    "\n",
    "uri = \"~/datasets/demo\"\n",
    "db = lancedb.connect(uri)\n",
    "tbl = db.open_table(\"diffusiondb\")\n",
    "tbl.create_fts_index([\"prompt\"])"
   ]
  },
  {
   "cell_type": "code",
   "execution_count": 54,
   "metadata": {},
   "outputs": [],
   "source": [
    "tbl.create_fts_index([\"prompt\"])"
   ]
  },
  {
   "cell_type": "code",
   "execution_count": 50,
   "metadata": {},
   "outputs": [
    {
     "data": {
      "text/html": [
       "<div>\n",
       "<style scoped>\n",
       "    .dataframe tbody tr th:only-of-type {\n",
       "        vertical-align: middle;\n",
       "    }\n",
       "\n",
       "    .dataframe tbody tr th {\n",
       "        vertical-align: top;\n",
       "    }\n",
       "\n",
       "    .dataframe thead th {\n",
       "        text-align: right;\n",
       "    }\n",
       "</style>\n",
       "<table border=\"1\" class=\"dataframe\">\n",
       "  <thead>\n",
       "    <tr style=\"text-align: right;\">\n",
       "      <th></th>\n",
       "      <th>prompt</th>\n",
       "      <th>seed</th>\n",
       "      <th>step</th>\n",
       "      <th>cfg</th>\n",
       "      <th>sampler</th>\n",
       "      <th>width</th>\n",
       "      <th>height</th>\n",
       "      <th>timestamp</th>\n",
       "      <th>image_nsfw</th>\n",
       "      <th>prompt_nsfw</th>\n",
       "      <th>vector</th>\n",
       "      <th>image</th>\n",
       "    </tr>\n",
       "  </thead>\n",
       "  <tbody>\n",
       "    <tr>\n",
       "      <th>0</th>\n",
       "      <td>portrait of jennifer lawrence as teenage mutan...</td>\n",
       "      <td>3969484216</td>\n",
       "      <td>50</td>\n",
       "      <td>7.0</td>\n",
       "      <td>k_lms</td>\n",
       "      <td>512</td>\n",
       "      <td>512</td>\n",
       "      <td>2022-08-16 19:37:00</td>\n",
       "      <td>0.108981</td>\n",
       "      <td>0.031935</td>\n",
       "      <td>[0.1055411696434021, 0.16571573913097382, 0.09...</td>\n",
       "      <td>[137, 80, 78, 71, 13, 10, 26, 10, 0, 0, 0, 13,...</td>\n",
       "    </tr>\n",
       "  </tbody>\n",
       "</table>\n",
       "</div>"
      ],
      "text/plain": [
       "                                              prompt        seed  step  cfg  \\\n",
       "0  portrait of jennifer lawrence as teenage mutan...  3969484216    50  7.0   \n",
       "\n",
       "  sampler  width  height           timestamp  image_nsfw  prompt_nsfw  \\\n",
       "0   k_lms    512     512 2022-08-16 19:37:00    0.108981     0.031935   \n",
       "\n",
       "                                              vector  \\\n",
       "0  [0.1055411696434021, 0.16571573913097382, 0.09...   \n",
       "\n",
       "                                               image  \n",
       "0  [137, 80, 78, 71, 13, 10, 26, 10, 0, 0, 0, 13,...  "
      ]
     },
     "execution_count": 50,
     "metadata": {},
     "output_type": "execute_result"
    }
   ],
   "source": [
    "ds = tbl.to_lance()\n",
    "duckdb.query(\"SELECT * FROM ds WHERE seed=3969484216\").to_df()"
   ]
  },
  {
   "cell_type": "code",
   "execution_count": 55,
   "metadata": {},
   "outputs": [
    {
     "data": {
      "text/html": [
       "<div>\n",
       "<style scoped>\n",
       "    .dataframe tbody tr th:only-of-type {\n",
       "        vertical-align: middle;\n",
       "    }\n",
       "\n",
       "    .dataframe tbody tr th {\n",
       "        vertical-align: top;\n",
       "    }\n",
       "\n",
       "    .dataframe thead th {\n",
       "        text-align: right;\n",
       "    }\n",
       "</style>\n",
       "<table border=\"1\" class=\"dataframe\">\n",
       "  <thead>\n",
       "    <tr style=\"text-align: right;\">\n",
       "      <th></th>\n",
       "      <th>prompt</th>\n",
       "      <th>seed</th>\n",
       "      <th>step</th>\n",
       "      <th>cfg</th>\n",
       "      <th>sampler</th>\n",
       "      <th>width</th>\n",
       "      <th>height</th>\n",
       "      <th>timestamp</th>\n",
       "      <th>image_nsfw</th>\n",
       "      <th>prompt_nsfw</th>\n",
       "      <th>vector</th>\n",
       "      <th>image</th>\n",
       "      <th>score</th>\n",
       "    </tr>\n",
       "  </thead>\n",
       "  <tbody>\n",
       "    <tr>\n",
       "      <th>0</th>\n",
       "      <td>portrait of jennifer lawrence as teenage mutan...</td>\n",
       "      <td>3969484216</td>\n",
       "      <td>50</td>\n",
       "      <td>7.0</td>\n",
       "      <td>k_lms</td>\n",
       "      <td>512</td>\n",
       "      <td>512</td>\n",
       "      <td>2022-08-16 19:37:00</td>\n",
       "      <td>0.108981</td>\n",
       "      <td>0.031935</td>\n",
       "      <td>[0.10554117, 0.16571574, 0.09008662, -0.194717...</td>\n",
       "      <td>b'\\x89PNG\\r\\n\\x1a\\n\\x00\\x00\\x00\\rIHDR\\x00\\x00\\...</td>\n",
       "      <td>14.907752</td>\n",
       "    </tr>\n",
       "    <tr>\n",
       "      <th>1</th>\n",
       "      <td>fma stormtrooper and a ninja turtle having cof...</td>\n",
       "      <td>1391039028</td>\n",
       "      <td>50</td>\n",
       "      <td>7.0</td>\n",
       "      <td>k_lms</td>\n",
       "      <td>512</td>\n",
       "      <td>512</td>\n",
       "      <td>2022-08-18 11:14:00</td>\n",
       "      <td>0.194749</td>\n",
       "      <td>0.001279</td>\n",
       "      <td>[-0.22904971, -0.023404881, 0.10390632, 0.5918...</td>\n",
       "      <td>b'\\x89PNG\\r\\n\\x1a\\n\\x00\\x00\\x00\\rIHDR\\x00\\x00\\...</td>\n",
       "      <td>12.188478</td>\n",
       "    </tr>\n",
       "    <tr>\n",
       "      <th>2</th>\n",
       "      <td>a rainbow - shelled turtle by aardman entertai...</td>\n",
       "      <td>1135798550</td>\n",
       "      <td>50</td>\n",
       "      <td>7.0</td>\n",
       "      <td>k_lms</td>\n",
       "      <td>512</td>\n",
       "      <td>512</td>\n",
       "      <td>2022-08-18 09:04:00</td>\n",
       "      <td>0.036246</td>\n",
       "      <td>0.001061</td>\n",
       "      <td>[0.3398647, 0.1279463, -0.113979734, -0.466874...</td>\n",
       "      <td>b'\\x89PNG\\r\\n\\x1a\\n\\x00\\x00\\x00\\rIHDR\\x00\\x00\\...</td>\n",
       "      <td>9.189347</td>\n",
       "    </tr>\n",
       "    <tr>\n",
       "      <th>3</th>\n",
       "      <td>a rainbow - shelled turtle by aardman entertai...</td>\n",
       "      <td>253119891</td>\n",
       "      <td>50</td>\n",
       "      <td>7.0</td>\n",
       "      <td>k_lms</td>\n",
       "      <td>512</td>\n",
       "      <td>512</td>\n",
       "      <td>2022-08-18 09:05:00</td>\n",
       "      <td>0.038535</td>\n",
       "      <td>0.847200</td>\n",
       "      <td>[0.2561665, -0.09101473, 0.097268306, -0.09523...</td>\n",
       "      <td>b'\\x89PNG\\r\\n\\x1a\\n\\x00\\x00\\x00\\rIHDR\\x00\\x00\\...</td>\n",
       "      <td>8.676806</td>\n",
       "    </tr>\n",
       "    <tr>\n",
       "      <th>4</th>\n",
       "      <td>riven with blue eyes wearing zed mask and ninj...</td>\n",
       "      <td>2528242526</td>\n",
       "      <td>50</td>\n",
       "      <td>7.0</td>\n",
       "      <td>k_lms</td>\n",
       "      <td>512</td>\n",
       "      <td>512</td>\n",
       "      <td>2022-08-18 06:20:00</td>\n",
       "      <td>0.187990</td>\n",
       "      <td>0.031660</td>\n",
       "      <td>[-0.22818531, 0.57053506, 0.058121443, 0.24126...</td>\n",
       "      <td>b'\\x89PNG\\r\\n\\x1a\\n\\x00\\x00\\x00\\rIHDR\\x00\\x00\\...</td>\n",
       "      <td>7.319629</td>\n",
       "    </tr>\n",
       "    <tr>\n",
       "      <th>5</th>\n",
       "      <td>cute ninja cat and babymouse in a space statio...</td>\n",
       "      <td>3333593796</td>\n",
       "      <td>50</td>\n",
       "      <td>7.0</td>\n",
       "      <td>k_lms</td>\n",
       "      <td>512</td>\n",
       "      <td>512</td>\n",
       "      <td>2022-08-17 13:48:00</td>\n",
       "      <td>0.054645</td>\n",
       "      <td>0.000996</td>\n",
       "      <td>[-0.1219545, 0.28735355, -0.320674, 0.30553597...</td>\n",
       "      <td>b'\\x89PNG\\r\\n\\x1a\\n\\x00\\x00\\x00\\rIHDR\\x00\\x00\\...</td>\n",
       "      <td>6.117216</td>\n",
       "    </tr>\n",
       "    <tr>\n",
       "      <th>6</th>\n",
       "      <td>teenage mutant ninja turtles eat pizza in room...</td>\n",
       "      <td>2457359452</td>\n",
       "      <td>50</td>\n",
       "      <td>16.0</td>\n",
       "      <td>k_lms</td>\n",
       "      <td>512</td>\n",
       "      <td>512</td>\n",
       "      <td>2022-08-16 19:06:00</td>\n",
       "      <td>2.000000</td>\n",
       "      <td>0.324804</td>\n",
       "      <td>[0.15923323, 0.1867303, -0.1716962, -0.1851373...</td>\n",
       "      <td>b'\\x89PNG\\r\\n\\x1a\\n\\x00\\x00\\x00\\rIHDR\\x00\\x00\\...</td>\n",
       "      <td>5.173012</td>\n",
       "    </tr>\n",
       "    <tr>\n",
       "      <th>7</th>\n",
       "      <td>robot ninja mask terminator t 1 0 0 0 cyber ea...</td>\n",
       "      <td>1329918855</td>\n",
       "      <td>50</td>\n",
       "      <td>7.0</td>\n",
       "      <td>k_lms</td>\n",
       "      <td>512</td>\n",
       "      <td>512</td>\n",
       "      <td>2022-08-19 09:45:00</td>\n",
       "      <td>0.077714</td>\n",
       "      <td>0.000952</td>\n",
       "      <td>[0.24278568, 0.109467536, -0.44478047, -0.1991...</td>\n",
       "      <td>b'\\x89PNG\\r\\n\\x1a\\n\\x00\\x00\\x00\\rIHDR\\x00\\x00\\...</td>\n",
       "      <td>4.802383</td>\n",
       "    </tr>\n",
       "    <tr>\n",
       "      <th>8</th>\n",
       "      <td>cyborg robot ninja mask terminator t 1 0 0 0 f...</td>\n",
       "      <td>495303071</td>\n",
       "      <td>50</td>\n",
       "      <td>7.0</td>\n",
       "      <td>k_lms</td>\n",
       "      <td>512</td>\n",
       "      <td>512</td>\n",
       "      <td>2022-08-19 10:55:00</td>\n",
       "      <td>0.080432</td>\n",
       "      <td>0.001629</td>\n",
       "      <td>[0.5367254, 0.337718, -0.6361712, 0.06989978, ...</td>\n",
       "      <td>b'\\x89PNG\\r\\n\\x1a\\n\\x00\\x00\\x00\\rIHDR\\x00\\x00\\...</td>\n",
       "      <td>4.422182</td>\n",
       "    </tr>\n",
       "  </tbody>\n",
       "</table>\n",
       "</div>"
      ],
      "text/plain": [
       "                                              prompt        seed  step   cfg  \\\n",
       "0  portrait of jennifer lawrence as teenage mutan...  3969484216    50   7.0   \n",
       "1  fma stormtrooper and a ninja turtle having cof...  1391039028    50   7.0   \n",
       "2  a rainbow - shelled turtle by aardman entertai...  1135798550    50   7.0   \n",
       "3  a rainbow - shelled turtle by aardman entertai...   253119891    50   7.0   \n",
       "4  riven with blue eyes wearing zed mask and ninj...  2528242526    50   7.0   \n",
       "5  cute ninja cat and babymouse in a space statio...  3333593796    50   7.0   \n",
       "6  teenage mutant ninja turtles eat pizza in room...  2457359452    50  16.0   \n",
       "7  robot ninja mask terminator t 1 0 0 0 cyber ea...  1329918855    50   7.0   \n",
       "8  cyborg robot ninja mask terminator t 1 0 0 0 f...   495303071    50   7.0   \n",
       "\n",
       "  sampler  width  height           timestamp  image_nsfw  prompt_nsfw  \\\n",
       "0   k_lms    512     512 2022-08-16 19:37:00    0.108981     0.031935   \n",
       "1   k_lms    512     512 2022-08-18 11:14:00    0.194749     0.001279   \n",
       "2   k_lms    512     512 2022-08-18 09:04:00    0.036246     0.001061   \n",
       "3   k_lms    512     512 2022-08-18 09:05:00    0.038535     0.847200   \n",
       "4   k_lms    512     512 2022-08-18 06:20:00    0.187990     0.031660   \n",
       "5   k_lms    512     512 2022-08-17 13:48:00    0.054645     0.000996   \n",
       "6   k_lms    512     512 2022-08-16 19:06:00    2.000000     0.324804   \n",
       "7   k_lms    512     512 2022-08-19 09:45:00    0.077714     0.000952   \n",
       "8   k_lms    512     512 2022-08-19 10:55:00    0.080432     0.001629   \n",
       "\n",
       "                                              vector  \\\n",
       "0  [0.10554117, 0.16571574, 0.09008662, -0.194717...   \n",
       "1  [-0.22904971, -0.023404881, 0.10390632, 0.5918...   \n",
       "2  [0.3398647, 0.1279463, -0.113979734, -0.466874...   \n",
       "3  [0.2561665, -0.09101473, 0.097268306, -0.09523...   \n",
       "4  [-0.22818531, 0.57053506, 0.058121443, 0.24126...   \n",
       "5  [-0.1219545, 0.28735355, -0.320674, 0.30553597...   \n",
       "6  [0.15923323, 0.1867303, -0.1716962, -0.1851373...   \n",
       "7  [0.24278568, 0.109467536, -0.44478047, -0.1991...   \n",
       "8  [0.5367254, 0.337718, -0.6361712, 0.06989978, ...   \n",
       "\n",
       "                                               image      score  \n",
       "0  b'\\x89PNG\\r\\n\\x1a\\n\\x00\\x00\\x00\\rIHDR\\x00\\x00\\...  14.907752  \n",
       "1  b'\\x89PNG\\r\\n\\x1a\\n\\x00\\x00\\x00\\rIHDR\\x00\\x00\\...  12.188478  \n",
       "2  b'\\x89PNG\\r\\n\\x1a\\n\\x00\\x00\\x00\\rIHDR\\x00\\x00\\...   9.189347  \n",
       "3  b'\\x89PNG\\r\\n\\x1a\\n\\x00\\x00\\x00\\rIHDR\\x00\\x00\\...   8.676806  \n",
       "4  b'\\x89PNG\\r\\n\\x1a\\n\\x00\\x00\\x00\\rIHDR\\x00\\x00\\...   7.319629  \n",
       "5  b'\\x89PNG\\r\\n\\x1a\\n\\x00\\x00\\x00\\rIHDR\\x00\\x00\\...   6.117216  \n",
       "6  b'\\x89PNG\\r\\n\\x1a\\n\\x00\\x00\\x00\\rIHDR\\x00\\x00\\...   5.173012  \n",
       "7  b'\\x89PNG\\r\\n\\x1a\\n\\x00\\x00\\x00\\rIHDR\\x00\\x00\\...   4.802383  \n",
       "8  b'\\x89PNG\\r\\n\\x1a\\n\\x00\\x00\\x00\\rIHDR\\x00\\x00\\...   4.422182  "
      ]
     },
     "execution_count": 55,
     "metadata": {},
     "output_type": "execute_result"
    },
    {
     "name": "stdout",
     "output_type": "stream",
     "text": [
      "ninja turtle\n"
     ]
    }
   ],
   "source": [
    "tbl = db.open_table(\"diffusiondb\")\n",
    "tbl.search(\"ninja turtle\").limit(9).to_df()"
   ]
  },
  {
   "cell_type": "code",
   "execution_count": 48,
   "metadata": {},
   "outputs": [
    {
     "name": "stdout",
     "output_type": "stream",
     "text": [
      "ninja turtle\n",
      "turtle\n",
      "turtle\n"
     ]
    }
   ],
   "source": [
    "from transformers import CLIPModel, CLIPProcessor, CLIPTokenizerFast\n",
    "\n",
    "MODEL_ID = \"openai/clip-vit-base-patch32\"\n",
    "\n",
    "tokenizer = CLIPTokenizerFast.from_pretrained(MODEL_ID)\n",
    "model = CLIPModel.from_pretrained(MODEL_ID)\n",
    "processor = CLIPProcessor.from_pretrained(MODEL_ID)\n",
    "\n",
    "def embed_func(query):\n",
    "    inputs = tokenizer([query], padding=True, return_tensors=\"pt\")\n",
    "    text_features = model.get_text_features(**inputs)\n",
    "    return text_features.detach().numpy()[0]"
   ]
  },
  {
   "cell_type": "code",
   "execution_count": 46,
   "metadata": {},
   "outputs": [],
   "source": [
    "def find_image_vectors(query):\n",
    "    emb = embed_func(query)\n",
    "    return _extract(tbl.search(emb).limit(9).to_df())\n",
    "\n",
    "def find_image_keywords(query):\n",
    "    print(query)\n",
    "    return _extract(tbl.search(query).limit(9).to_df())\n",
    "\n",
    "def find_image_sql(query):\n",
    "    diffusiondb = tbl.to_lance()\n",
    "    return _extract(duckdb.query(query).to_df())\n",
    "\n",
    "def _extract(df):\n",
    "    image_col = \"image\"\n",
    "    return [(PIL.Image.open(io.BytesIO(row[image_col])), row[\"prompt\"]) for _, row in df.iterrows()]"
   ]
  },
  {
   "cell_type": "code",
   "execution_count": 47,
   "metadata": {},
   "outputs": [
    {
     "name": "stdout",
     "output_type": "stream",
     "text": [
      "Running on local URL:  http://127.0.0.1:7866\n",
      "\n",
      "To create a public link, set `share=True` in `launch()`.\n"
     ]
    },
    {
     "data": {
      "text/html": [
       "<div><iframe src=\"http://127.0.0.1:7866/\" width=\"100%\" height=\"500\" allow=\"autoplay; camera; microphone; clipboard-read; clipboard-write;\" frameborder=\"0\" allowfullscreen></iframe></div>"
      ],
      "text/plain": [
       "<IPython.core.display.HTML object>"
      ]
     },
     "metadata": {},
     "output_type": "display_data"
    },
    {
     "data": {
      "text/plain": []
     },
     "execution_count": 47,
     "metadata": {},
     "output_type": "execute_result"
    },
    {
     "name": "stdout",
     "output_type": "stream",
     "text": [
      "ninja turtle\n"
     ]
    }
   ],
   "source": [
    "import gradio as gr\n",
    "\n",
    "\n",
    "with gr.Blocks() as demo:\n",
    "\n",
    "    with gr.Row():\n",
    "        with gr.Tab(\"Embeddings\"):\n",
    "            vector_query = gr.Textbox(value=\"geodesic landscape\", show_label=False)\n",
    "            b1 = gr.Button(\"Submit\")\n",
    "        with gr.Tab(\"Keywords\"):\n",
    "            keyword_query = gr.Textbox(value=\"turtle\", show_label=False)\n",
    "            b2 = gr.Button(\"Submit\")\n",
    "        with gr.Tab(\"SQL\"):\n",
    "            sql_query = gr.Textbox(value=\"SELECT * from diffusiondb WHERE image_nsfw >= 2 LIMIT 9\", show_label=False)\n",
    "            b3 = gr.Button(\"Submit\")\n",
    "    with gr.Row():\n",
    "        gallery = gr.Gallery(\n",
    "                label=\"Found images\", show_label=False, elem_id=\"gallery\"\n",
    "            ).style(columns=[3], rows=[3], object_fit=\"contain\", height=\"auto\")   \n",
    "        \n",
    "    b1.click(find_image_vectors, inputs=vector_query, outputs=gallery)\n",
    "    b2.click(find_image_keywords, inputs=keyword_query, outputs=gallery)\n",
    "    b3.click(find_image_sql, inputs=sql_query, outputs=gallery)\n",
    "    \n",
    "demo.launch()"
   ]
  },
  {
   "cell_type": "code",
   "execution_count": null,
   "metadata": {},
   "outputs": [],
   "source": []
  },
  {
   "cell_type": "code",
   "execution_count": null,
   "metadata": {},
   "outputs": [],
   "source": []
  }
 ],
 "metadata": {
  "kernelspec": {
   "display_name": "Python 3 (ipykernel)",
   "language": "python",
   "name": "python3"
  },
  "language_info": {
   "codemirror_mode": {
    "name": "ipython",
    "version": 3
   },
   "file_extension": ".py",
   "mimetype": "text/x-python",
   "name": "python",
   "nbconvert_exporter": "python",
   "pygments_lexer": "ipython3",
   "version": "3.11.3"
  }
 },
 "nbformat": 4,
 "nbformat_minor": 1
}
